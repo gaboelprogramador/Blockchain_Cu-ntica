{
 "cells": [
  {
   "cell_type": "code",
   "execution_count": 13,
   "id": "53b9fee4-7c6c-473e-b5f7-b6518d211d7a",
   "metadata": {},
   "outputs": [],
   "source": [
    "# Measurements\n",
    "from qiskit import QuantumRegister, ClassicalRegister, QuantumCircuit, execute\n",
    "from qiskit import IBMQ, Aer, transpile, assemble\n",
    "from qiskit.visualization import plot_histogram \n",
    "from qiskit.quantum_info import Operator\n",
    "import numpy as np\n",
    "\n",
    "# Loading your IBM Quantum account(s)\n",
    "provider = IBMQ.load_account()\n"
   ]
  },
  {
   "cell_type": "markdown",
   "id": "1596879d",
   "metadata": {},
   "source": [
    "Consultamos las máquinas disponibles de IBM. Como nuestro programa se limita a dos qubits podemos ejecutarlo en una máquina pequeña, nosotros usaremos __ibmq_manila__."
   ]
  },
  {
   "cell_type": "code",
   "execution_count": null,
   "id": "8230e495-6067-4b00-8fd9-b51efe4b03dd",
   "metadata": {},
   "outputs": [],
   "source": [
    "provider=IBMQ.get_provider(hub=\"ibm-q\")\n",
    "available_cloud_backends = provider.backends()\n",
    "print(\"Backends\")\n",
    "for i in available_cloud_backends: print (i)"
   ]
  },
  {
   "cell_type": "code",
   "execution_count": 4,
   "id": "0e6c1042-66ab-4bbe-8c3e-a091099dab17",
   "metadata": {},
   "outputs": [],
   "source": [
    "device = provider.get_backend(\"ibmq_manila\")"
   ]
  },
  {
   "cell_type": "code",
   "execution_count": 5,
   "id": "4388f33b-9913-4f73-aa01-6dea89fce1c7",
   "metadata": {},
   "outputs": [],
   "source": [
    "def juego(thetaA,thetaB,phiA,phiB,alphaA,alphaB,deltaA,deltaB):\n",
    "    '''Simulamos el juego.\n",
    "    \n",
    "    Parámetros: thetaA, thetaB, phiA, phiB, \n",
    "                alphaA,alphaB,deltaA,deltaB\n",
    "                \n",
    "    Ángulos de las matrices de A y B que codifican el juego particular\n",
    "    \n",
    "    El programa devuelve el histograma de la simulación\n",
    "    '''\n",
    "    \n",
    "    # Cargamos el simulador Aer\n",
    "    simulator = Aer.get_backend(\"qasm_simulator\")\n",
    "\n",
    "    # Creamos un QC \n",
    "    qr = QuantumRegister(2, 'q')\n",
    "    crz, crx = ClassicalRegister(1, name=\"crz\"), ClassicalRegister(1, name=\"crx\")\n",
    "    circuit = QuantumCircuit(qr, crz,crx)\n",
    "\n",
    "    # Definimos la matriz de entrelazamiento\n",
    "    I_2 = np.identity(4)    \n",
    "    X_2 = np.matrix([[0,0,0,1], \n",
    "                       [0,0,1,0],\n",
    "                       [0,1,0,0],\n",
    "                       [1,0,0,0]])\n",
    "    J_2 = Operator(1 / np.sqrt(2) * (I_2 + 1j *X_2))  \n",
    "    J_2_dg = Operator(1 / np.sqrt(2) * (I_2 - 1j *X_2))    # inversa de J_2\n",
    "    \n",
    "    \n",
    "    # Las matrices U_A y U_B son la jugada del jugador A y el jugador B\n",
    "    \n",
    "    U_A = matriz(thetaA,phiA,alphaA,deltaA)\n",
    "    U_B = matriz(thetaB,phiB,alphaB,deltaB)\n",
    "\n",
    "    # Generamos el circuito\n",
    "    circuit.append(J_2, [0,1])\n",
    "    circuit.append(U_A,[0]) # asignamos la puerta UA al jugador 1\n",
    "    circuit.append(U_B,[1]) # asignamos la puerta UB al jugador 2\n",
    "    circuit.append(J_2_dg, [0,1])\n",
    "\n",
    "    # Medimos las qubits\n",
    "    circuit.measure(qr[0],crz)\n",
    "    circuit.measure(qr[1],crx)\n",
    "    \n",
    "\n",
    "    # Ejecutamos el circuito en el simulador qasm\n",
    "    job = execute(circuit, simulator,shots=1024)\n",
    "    \n",
    "    # Los resultados de job\n",
    "    result = job.result()\n",
    "    \n",
    "    # Contamos los resultados\n",
    "    counts = result.get_counts(circuit)\n",
    "    # print(counts,\"\\n\")\n",
    "    \n",
    "    # Dibujamos el circuito\n",
    "    dib = circuit.draw()\n",
    "    print(dib,\"\\n\")\n",
    "    \n",
    "    # Devolvemos el histograma de resultados\n",
    "    return plot_histogram(counts)"
   ]
  },
  {
   "cell_type": "markdown",
   "id": "74c296d9",
   "metadata": {},
   "source": [
    "Veamos que, a pesar del ruido, los resultados en el ordenador cuántico son equivalentes a los de la simulación."
   ]
  },
  {
   "cell_type": "code",
   "execution_count": 6,
   "id": "133e4182-90a8-4c63-bf5f-b5ac410e60e9",
   "metadata": {},
   "outputs": [
    {
     "name": "stdout",
     "output_type": "stream",
     "text": [
      "Job Status: job has successfully run\n",
      "61744f39b02bdc9f28d84d87\n"
     ]
    },
    {
     "data": {
      "image/png": "[encoded data removed]",
      "text/plain": [
       "<Figure size 504x360 with 1 Axes>"
      ]
     },
     "execution_count": 6,
     "metadata": {},
     "output_type": "execute_result"
    }
   ],
   "source": [
    "# Caso del prisionero cuántico\n",
    "proceso(0,pi,pi/4,0,0,3*pi/2,pi/4,pi/2)"
   ]
  }
 ],
 "metadata": {
  "kernelspec": {
   "display_name": "Python 3",
   "language": "python",
   "name": "python3"
  },
  "language_info": {
   "codemirror_mode": {
    "name": "ipython",
    "version": 3
   },
   "file_extension": ".py",
   "mimetype": "text/x-python",
   "name": "python",
   "nbconvert_exporter": "python",
   "pygments_lexer": "ipython3",
   "version": "3.8.8"
  },
  "widgets": {
   "application/vnd.jupyter.widget-state+json": {
    "state": {
     "041983033f1a4dada726e5d178d5fdbd": {
      "model_module": "@jupyter-widgets/controls",
      "model_module_version": "1.5.0",
      "model_name": "DescriptionStyleModel",
      "state": {
       "description_width": ""
      }
     },
     "05273e85594943a59a19c7cd4f93501a": {
      "model_module": "@jupyter-widgets/controls",
      "model_module_version": "1.5.0",
      "model_name": "HTMLModel",
      "state": {
       "layout": "IPY_MODEL_2c7d41550c114733b3aba3235a9785f5",
       "style": "IPY_MODEL_b732173b3596496bb4b1b5bee48fc54d",
       "value": "<h5>Queue</h5>"
      }
     },
     "07b10f37015642b6a02436e09a8cb47f": {
      "model_module": "@jupyter-widgets/controls",
      "model_module_version": "1.5.0",
      "model_name": "ButtonModel",
      "state": {
       "button_style": "primary",
       "description": "Clear",
       "layout": "IPY_MODEL_323517da613a4513803fc86eae9d9fd6",
       "style": "IPY_MODEL_369a99fcf6da4cc5a412df55b923cf96"
      }
     },
     "1ee3d99a502f4b01b159c17b51f2c7e6": {
      "model_module": "@jupyter-widgets/controls",
      "model_module_version": "1.5.0",
      "model_name": "HTMLModel",
      "state": {
       "layout": "IPY_MODEL_5832edb0a306407f9b9eb6a54e16e3ae",
       "style": "IPY_MODEL_40b0ec3144204774b7396621d1764e9d",
       "value": "<h5>Status</h5>"
      }
     },
     "2c7d41550c114733b3aba3235a9785f5": {
      "model_module": "@jupyter-widgets/base",
      "model_module_version": "1.2.0",
      "model_name": "LayoutModel",
      "state": {
       "width": "70px"
      }
     },
     "2dcd1480da63457f90d421dcbcf7fe44": {
      "model_module": "@jupyter-widgets/base",
      "model_module_version": "1.2.0",
      "model_name": "LayoutModel",
      "state": {
       "width": "190px"
      }
     },
     "323517da613a4513803fc86eae9d9fd6": {
      "model_module": "@jupyter-widgets/base",
      "model_module_version": "1.2.0",
      "model_name": "LayoutModel",
      "state": {
       "grid_area": "right",
       "padding": "0px 0px 0px 0px",
       "width": "70px"
      }
     },
     "369a99fcf6da4cc5a412df55b923cf96": {
      "model_module": "@jupyter-widgets/controls",
      "model_module_version": "1.5.0",
      "model_name": "ButtonStyleModel",
      "state": {}
     },
     "40b0ec3144204774b7396621d1764e9d": {
      "model_module": "@jupyter-widgets/controls",
      "model_module_version": "1.5.0",
      "model_name": "DescriptionStyleModel",
      "state": {
       "description_width": ""
      }
     },
     "48ec7a0ee69a458ea432f17a87015e53": {
      "model_module": "@jupyter-widgets/controls",
      "model_module_version": "1.5.0",
      "model_name": "HTMLModel",
      "state": {
       "layout": "IPY_MODEL_db12e8d899ad491b94aeab77c82a5376",
       "style": "IPY_MODEL_ecc41f9851e64fc0bb8c75ea787b2c43",
       "value": "ibmq_manila"
      }
     },
     "4a935cdd633443b38599f624b308eafd": {
      "model_module": "@jupyter-widgets/controls",
      "model_module_version": "1.5.0",
      "model_name": "DescriptionStyleModel",
      "state": {
       "description_width": ""
      }
     },
     "4d1b444bd1eb40d4aa2a9463118eefb0": {
      "model_module": "@jupyter-widgets/controls",
      "model_module_version": "1.5.0",
      "model_name": "HBoxModel",
      "state": {
       "children": [
        "IPY_MODEL_5161f23a599541039e3182cb6bf9bb46",
        "IPY_MODEL_8886b5be1f9643899109858b8c74bd36",
        "IPY_MODEL_48ec7a0ee69a458ea432f17a87015e53",
        "IPY_MODEL_5fe2b6d7e2ec4a33a072d3114aa53ffa",
        "IPY_MODEL_872e0c9a031b45328c053ece440ba2c4",
        "IPY_MODEL_f94d1485273342d49747462b375f9bf1"
       ],
       "layout": "IPY_MODEL_5863f45950814543bc06677ff6190489"
      }
     },
     "501a85acecf04ad9844107e150dc65cb": {
      "model_module": "@jupyter-widgets/controls",
      "model_module_version": "1.5.0",
      "model_name": "DescriptionStyleModel",
      "state": {
       "description_width": ""
      }
     },
     "5161f23a599541039e3182cb6bf9bb46": {
      "model_module": "@jupyter-widgets/controls",
      "model_module_version": "1.5.0",
      "model_name": "ButtonModel",
      "state": {
       "icon": "close",
       "layout": "IPY_MODEL_6da60e99daae4bf5998738a8b4e0b755",
       "style": "IPY_MODEL_9f4f7c2e068e484d9f4847b81e4a2e45"
      }
     },
     "5832edb0a306407f9b9eb6a54e16e3ae": {
      "model_module": "@jupyter-widgets/base",
      "model_module_version": "1.2.0",
      "model_name": "LayoutModel",
      "state": {
       "width": "95px"
      }
     },
     "5863f45950814543bc06677ff6190489": {
      "model_module": "@jupyter-widgets/base",
      "model_module_version": "1.2.0",
      "model_name": "LayoutModel",
      "state": {
       "max_width": "700px",
       "min_width": "700px"
      }
     },
     "5ef1de2df3ae419ab7dfeeae6dffb6d8": {
      "model_module": "@jupyter-widgets/controls",
      "model_module_version": "1.5.0",
      "model_name": "HTMLModel",
      "state": {
       "layout": "IPY_MODEL_6a8b194dc9974a5387c70ff836af2d38",
       "style": "IPY_MODEL_041983033f1a4dada726e5d178d5fdbd",
       "value": "<h5>Job ID</h5>"
      }
     },
     "5fe2b6d7e2ec4a33a072d3114aa53ffa": {
      "model_module": "@jupyter-widgets/controls",
      "model_module_version": "1.5.0",
      "model_name": "HTMLModel",
      "state": {
       "layout": "IPY_MODEL_76b1311f7e5d4bb3834caea4c99930dc",
       "style": "IPY_MODEL_501a85acecf04ad9844107e150dc65cb",
       "value": "<font style='color:#34BC6E'>DONE</font>"
      }
     },
     "6417c299907b49f581815d961bab7623": {
      "model_module": "@jupyter-widgets/controls",
      "model_module_version": "1.5.0",
      "model_name": "DescriptionStyleModel",
      "state": {
       "description_width": ""
      }
     },
     "6952c7eca4444b5f9c6944189a7adb27": {
      "model_module": "@jupyter-widgets/base",
      "model_module_version": "1.2.0",
      "model_name": "LayoutModel",
      "state": {
       "margin": "0px 0px 0px 37px",
       "width": "600px"
      }
     },
     "6a8b194dc9974a5387c70ff836af2d38": {
      "model_module": "@jupyter-widgets/base",
      "model_module_version": "1.2.0",
      "model_name": "LayoutModel",
      "state": {
       "width": "190px"
      }
     },
     "6ae8b70a0ab04b6085e0fb51fa63599c": {
      "model_module": "@jupyter-widgets/controls",
      "model_module_version": "1.5.0",
      "model_name": "HTMLModel",
      "state": {
       "layout": "IPY_MODEL_a46ded81d5d941498af1261e83bc3d47",
       "style": "IPY_MODEL_a0591c89da824c64bfc23cdededa5a48",
       "value": "<h5>Message</h5>"
      }
     },
     "6da60e99daae4bf5998738a8b4e0b755": {
      "model_module": "@jupyter-widgets/base",
      "model_module_version": "1.2.0",
      "model_name": "LayoutModel",
      "state": {
       "margin": "0px 5px 0px 0px",
       "width": "32px"
      }
     },
     "6e4ee52683724803b75f0bce47d1de76": {
      "model_module": "@jupyter-widgets/base",
      "model_module_version": "1.2.0",
      "model_name": "LayoutModel",
      "state": {
       "overflow_x": "scroll"
      }
     },
     "76b1311f7e5d4bb3834caea4c99930dc": {
      "model_module": "@jupyter-widgets/base",
      "model_module_version": "1.2.0",
      "model_name": "LayoutModel",
      "state": {
       "width": "95px"
      }
     },
     "78f0a79fd38547caa3c8307404712dfb": {
      "model_module": "@jupyter-widgets/controls",
      "model_module_version": "1.5.0",
      "model_name": "HTMLModel",
      "state": {
       "layout": "IPY_MODEL_eee2b938b5034ed6a759d280dbb00041",
       "style": "IPY_MODEL_4a935cdd633443b38599f624b308eafd",
       "value": "<p style='font-family: IBM Plex Sans, Arial, Helvetica, sans-serif; font-size: 20px; font-weight: medium;'>Circuit Properties</p>"
      }
     },
     "7c0d7d223181499e8f6ef23364abebbe": {
      "model_module": "@jupyter-widgets/controls",
      "model_module_version": "1.5.0",
      "model_name": "DescriptionStyleModel",
      "state": {
       "description_width": ""
      }
     },
     "7eadd1add8a14d06b1f546536d14cb5b": {
      "model_module": "@jupyter-widgets/base",
      "model_module_version": "1.2.0",
      "model_name": "LayoutModel",
      "state": {
       "width": "70px"
      }
     },
     "84661dfb4110411babdb2658037b5495": {
      "model_module": "@jupyter-widgets/controls",
      "model_module_version": "1.5.0",
      "model_name": "HBoxModel",
      "state": {
       "children": [
        "IPY_MODEL_5ef1de2df3ae419ab7dfeeae6dffb6d8",
        "IPY_MODEL_9f24ff0060dd485e9d2cfe60e6a70ba7",
        "IPY_MODEL_1ee3d99a502f4b01b159c17b51f2c7e6",
        "IPY_MODEL_05273e85594943a59a19c7cd4f93501a",
        "IPY_MODEL_6ae8b70a0ab04b6085e0fb51fa63599c"
       ],
       "layout": "IPY_MODEL_6952c7eca4444b5f9c6944189a7adb27"
      }
     },
     "872e0c9a031b45328c053ece440ba2c4": {
      "model_module": "@jupyter-widgets/controls",
      "model_module_version": "1.5.0",
      "model_name": "HTMLModel",
      "state": {
       "layout": "IPY_MODEL_7eadd1add8a14d06b1f546536d14cb5b",
       "style": "IPY_MODEL_6417c299907b49f581815d961bab7623",
       "value": "-"
      }
     },
     "8886b5be1f9643899109858b8c74bd36": {
      "model_module": "@jupyter-widgets/controls",
      "model_module_version": "1.5.0",
      "model_name": "HTMLModel",
      "state": {
       "layout": "IPY_MODEL_2dcd1480da63457f90d421dcbcf7fe44",
       "style": "IPY_MODEL_b6196185a8874b8fb047b7a37e683b0d",
       "value": "61744f39b02bdc9f28d84d87"
      }
     },
     "9f24ff0060dd485e9d2cfe60e6a70ba7": {
      "model_module": "@jupyter-widgets/controls",
      "model_module_version": "1.5.0",
      "model_name": "HTMLModel",
      "state": {
       "layout": "IPY_MODEL_d0e4db69d5d24b95b14b6e5456b4aed6",
       "style": "IPY_MODEL_7c0d7d223181499e8f6ef23364abebbe",
       "value": "<h5>Backend</h5>"
      }
     },
     "9f4f7c2e068e484d9f4847b81e4a2e45": {
      "model_module": "@jupyter-widgets/controls",
      "model_module_version": "1.5.0",
      "model_name": "ButtonStyleModel",
      "state": {
       "button_color": "white"
      }
     },
     "a0591c89da824c64bfc23cdededa5a48": {
      "model_module": "@jupyter-widgets/controls",
      "model_module_version": "1.5.0",
      "model_name": "DescriptionStyleModel",
      "state": {
       "description_width": ""
      }
     },
     "a46ded81d5d941498af1261e83bc3d47": {
      "model_module": "@jupyter-widgets/base",
      "model_module_version": "1.2.0",
      "model_name": "LayoutModel",
      "state": {}
     },
     "adb57d237f3840d9ba9ecea48b504794": {
      "model_module": "@jupyter-widgets/controls",
      "model_module_version": "1.5.0",
      "model_name": "DescriptionStyleModel",
      "state": {
       "description_width": ""
      }
     },
     "b6196185a8874b8fb047b7a37e683b0d": {
      "model_module": "@jupyter-widgets/controls",
      "model_module_version": "1.5.0",
      "model_name": "DescriptionStyleModel",
      "state": {
       "description_width": ""
      }
     },
     "b732173b3596496bb4b1b5bee48fc54d": {
      "model_module": "@jupyter-widgets/controls",
      "model_module_version": "1.5.0",
      "model_name": "DescriptionStyleModel",
      "state": {
       "description_width": ""
      }
     },
     "ba8f9793379d4de78b5d0e948be24b12": {
      "model_module": "@jupyter-widgets/controls",
      "model_module_version": "1.5.0",
      "model_name": "GridBoxModel",
      "state": {
       "children": [
        "IPY_MODEL_07b10f37015642b6a02436e09a8cb47f"
       ],
       "layout": "IPY_MODEL_d0bcd3b68c2a43c0acf85484cf22d62f"
      }
     },
     "d0bcd3b68c2a43c0acf85484cf22d62f": {
      "model_module": "@jupyter-widgets/base",
      "model_module_version": "1.2.0",
      "model_name": "LayoutModel",
      "state": {
       "grid_template_areas": "\n                                       \". . . . right \"\n                                        ",
       "grid_template_columns": "20% 20% 20% 20% 20%",
       "width": "100%"
      }
     },
     "d0e4db69d5d24b95b14b6e5456b4aed6": {
      "model_module": "@jupyter-widgets/base",
      "model_module_version": "1.2.0",
      "model_name": "LayoutModel",
      "state": {
       "width": "145px"
      }
     },
     "db12e8d899ad491b94aeab77c82a5376": {
      "model_module": "@jupyter-widgets/base",
      "model_module_version": "1.2.0",
      "model_name": "LayoutModel",
      "state": {
       "width": "145px"
      }
     },
     "ecc41f9851e64fc0bb8c75ea787b2c43": {
      "model_module": "@jupyter-widgets/controls",
      "model_module_version": "1.5.0",
      "model_name": "DescriptionStyleModel",
      "state": {
       "description_width": ""
      }
     },
     "eee2b938b5034ed6a759d280dbb00041": {
      "model_module": "@jupyter-widgets/base",
      "model_module_version": "1.2.0",
      "model_name": "LayoutModel",
      "state": {
       "margin": "0px 0px 10px 0px"
      }
     },
     "f94d1485273342d49747462b375f9bf1": {
      "model_module": "@jupyter-widgets/controls",
      "model_module_version": "1.5.0",
      "model_name": "HTMLModel",
      "state": {
       "layout": "IPY_MODEL_6e4ee52683724803b75f0bce47d1de76",
       "style": "IPY_MODEL_adb57d237f3840d9ba9ecea48b504794",
       "value": "job has successfully run"
      }
     }
    },
    "version_major": 2,
    "version_minor": 0
   }
  }
 },
 "nbformat": 4,
 "nbformat_minor": 5
}
